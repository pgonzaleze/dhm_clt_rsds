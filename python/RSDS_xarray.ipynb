{
 "nbformat": 4,
 "nbformat_minor": 2,
 "metadata": {
  "language_info": {
   "name": "python",
   "codemirror_mode": {
    "name": "ipython",
    "version": 3
   },
   "version": "3.7.6"
  },
  "orig_nbformat": 2,
  "file_extension": ".py",
  "mimetype": "text/x-python",
  "name": "python",
  "npconvert_exporter": "python",
  "pygments_lexer": "ipython3",
  "version": 3,
  "kernelspec": {
   "name": "python3",
   "display_name": "Python 3.7.6 64-bit ('base': conda)"
  },
  "interpreter": {
   "hash": "3f71bcf4079f0e07257118d373ab1ac71537af286b04ad3506191c41e8119b06"
  }
 },
 "cells": [
  {
   "cell_type": "code",
   "execution_count": 1,
   "metadata": {},
   "outputs": [],
   "source": [
    "from datetime import datetime\n",
    "from netCDF4 import Dataset as ds\n",
    "import numpy as np\n",
    "import dateutil as du \n",
    "import parser\n",
    "import pytz\n",
    "import dateutil.parser \n",
    "import pandas as pd\n",
    "from pandas import DataFrame\n",
    "import csv\n",
    "#import glob, os\n",
    "from os.path import expanduser\n",
    "from pathlib import Path\n",
    "import xarray as xr "
   ]
  },
  {
   "cell_type": "code",
   "execution_count": 2,
   "metadata": {},
   "outputs": [],
   "source": [
    "### Load .CSV and \n",
    "### subset bleaching events (conditional, e.g. exclude NaN)\n",
    "### Filter only CodeID, site names and country\" \n",
    "df = pd.read_csv('CBdbV2.csv',encoding='latin-1', low_memory=False)\n",
    "df = df[['RECORD_ID','COUNTRY','LAT_corrected','LON_corrected','SEVERITY_CODE','DATE','MONTH','YEAR']]\n",
    "df = pd.DataFrame(df)\n",
    "#### Convert index into column\n",
    "#df.reset_index(level=0, inplace=True)\n",
    "df['ITEM_ID'] = df.index.astype(str).str.zfill(7)   # add '0s' at the beginning of the number and convert as string \n",
    "df = df[pd.to_numeric(df['MONTH'], errors='coerce').notnull()] # Drop rows that do not have as.numeric DATE (DAY)\n",
    "df['MONTH'] = df['MONTH'].apply(lambda x: int(float(x)))\n",
    "df['MONTH'] = df['MONTH'].apply('{0:0>2}'.format)\n",
    "df['DUMMY_DAY'] = df['MONTH'].apply(lambda x: 15 if x == '02' else 16) \n",
    "df['dummy_date'] = df.apply(lambda x: '%s-%s-%s' % (x['YEAR'], int(float(x['MONTH'])), x['DUMMY_DAY']), axis=1) # create a column in datetime format; %s - String (or any object with a string representation, like numbers), %d - Integers %f - Floating point numbers\n",
    "df['dummy_date'] = df['dummy_date'].apply(lambda x: datetime.strptime(x, \"%Y-%m-%d\")) # use datetime funtion to convert string 'full_date' to datetime \n",
    "### Re-order by column starting by 'ID' and renaming LAT and LON\n",
    "df['dummy_date'] = pd.to_datetime(df['dummy_date']).dt.to_period('M')\n",
    "df['dummy_date'] = df['dummy_date'].apply(lambda x: x.to_timestamp()) # convert Period M to timestamp \n",
    "df = df.reindex(columns=['ITEM_ID','COUNTRY','LAT_corrected','LON_corrected','SEVERITY_CODE','MONTH','YEAR','dummy_date'])\n",
    "df.rename(columns={'LAT_corrected': 'lat', 'LON_corrected': 'lon'}, inplace=True) # use \"implace = True\" to rename the existing DataFrame (rather than creating a copy)\n",
    "df = df.dropna(axis=0, how='any')  # Drop row with NaN if any"
   ]
  },
  {
   "cell_type": "code",
   "execution_count": 3,
   "metadata": {},
   "outputs": [
    {
     "output_type": "execute_result",
     "data": {
      "text/plain": [
       "34618"
      ]
     },
     "metadata": {},
     "execution_count": 3
    }
   ],
   "source": [
    "df = df.loc[(df['YEAR'] >= 2000) & (df['YEAR'] <= 2017)] \n",
    "len(df) # the value should be 35,678 (# rows) "
   ]
  },
  {
   "cell_type": "code",
   "execution_count": 4,
   "metadata": {},
   "outputs": [
    {
     "output_type": "execute_result",
     "data": {
      "text/plain": [
       "3053    2001-02-01\n",
       "3054    2001-02-01\n",
       "3055    2001-02-01\n",
       "3056    2001-02-01\n",
       "3057    2001-02-01\n",
       "           ...    \n",
       "37769   2017-12-01\n",
       "37770   2017-12-01\n",
       "37771   2017-12-01\n",
       "37772   2017-12-01\n",
       "37773   2017-12-01\n",
       "Name: dummy_date, Length: 34618, dtype: datetime64[ns]"
      ]
     },
     "metadata": {},
     "execution_count": 4
    }
   ],
   "source": [
    "df['dummy_date']"
   ]
  },
  {
   "cell_type": "code",
   "execution_count": 5,
   "metadata": {},
   "outputs": [],
   "source": [
    "# Function to slice the filename with .nc extention, this will be used to open the files in directory\n",
    "def file_info(ncfilename):\n",
    "    with ds(ncfilename,'r') as ncdat:\n",
    "        #string = str(ncfilename)\n",
    "        #filename = string[-16:] \n",
    "        array = xr.open_dataset(ncfilename) # open_dataset works fine with either full path or filename.nc \n",
    "        return array  \n",
    "def array_sel(array):\n",
    "    dsloc = array.sel(lon=lon,lat=lat,time=time,method='nearest') \n",
    "    rsds = dsloc['sfc_sw_down_all_mon']\n",
    "    return rsds "
   ]
  },
  {
   "cell_type": "code",
   "execution_count": 6,
   "metadata": {},
   "outputs": [],
   "source": [
    "home = Path(expanduser(\"~\"))\n",
    "x = []\n",
    "for row in df.itertuples():\n",
    "        lat = row.lat,\n",
    "        lon = row.lon\n",
    "        time = row.dummy_date\n",
    "        path = home / Path(\"F:/Chapter_3/RSDS/CERES/CERES_EBAF-sfc_sw_down_anom.nc\")\n",
    "        array = file_info(path)\n",
    "        rsds_val = array_sel(array)\n",
    "        x.append(rsds_val)\n",
    "rsds = [item[0].values for item in x]\n",
    "df['RSDS'] = rsds\n",
    "df.to_csv('RSDS.csv')"
   ]
  },
  {
   "cell_type": "code",
   "execution_count": 7,
   "metadata": {},
   "outputs": [
    {
     "output_type": "execute_result",
     "data": {
      "text/plain": [
       "Timestamp('2017-12-01 00:00:00')"
      ]
     },
     "metadata": {},
     "execution_count": 7
    }
   ],
   "source": []
  }
 ]
}